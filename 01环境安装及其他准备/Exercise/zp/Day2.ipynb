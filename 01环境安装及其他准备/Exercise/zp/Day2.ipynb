{
  "nbformat": 4,
  "nbformat_minor": 0,
  "metadata": {
    "colab": {
      "name": "Untitled1.ipynb",
      "provenance": [],
      "authorship_tag": "ABX9TyPceEQ8bqZrAQbDVhpaBDk3",
      "include_colab_link": true
    },
    "kernelspec": {
      "name": "python3",
      "display_name": "Python 3"
    },
    "language_info": {
      "name": "python"
    }
  },
  "cells": [
    {
      "cell_type": "markdown",
      "metadata": {
        "id": "view-in-github",
        "colab_type": "text"
      },
      "source": [
        "<a href=\"https://colab.research.google.com/github/17601010540/Python/blob/main/01%E7%8E%AF%E5%A2%83%E5%AE%89%E8%A3%85%E5%8F%8A%E5%85%B6%E4%BB%96%E5%87%86%E5%A4%87/Exercise/zp/Day2.ipynb\" target=\"_parent\"><img src=\"https://colab.research.google.com/assets/colab-badge.svg\" alt=\"Open In Colab\"/></a>"
      ]
    },
    {
      "cell_type": "code",
      "metadata": {
        "colab": {
          "base_uri": "https://localhost:8080/"
        },
        "id": "6-OWwq3dKVZ9",
        "outputId": "8d262e88-3804-4d6f-ac40-dcda481cc885"
      },
      "source": [
        "num = int(input('请输入整数：'))\n",
        "str1 = str(num)\n",
        "if str1 == str1[::-1]:\n",
        "    print('%d ' % num, '是回文数')\n",
        "else:\n",
        "    print('%d ' % num, '不是回文数')"
      ],
      "execution_count": 1,
      "outputs": [
        {
          "output_type": "stream",
          "text": [
            "请输入整数：23232323\n",
            "23232323  不是回文数\n"
          ],
          "name": "stdout"
        }
      ]
    }
  ]
}