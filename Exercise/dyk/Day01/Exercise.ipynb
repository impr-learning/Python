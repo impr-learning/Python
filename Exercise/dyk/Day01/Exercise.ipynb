{
  "nbformat": 4,
  "nbformat_minor": 0,
  "metadata": {
    "colab": {
      "name": "Course 01.ipynb",
      "provenance": []
    },
    "kernelspec": {
      "name": "python3",
      "display_name": "Python 3"
    },
    "language_info": {
      "name": "python"
    }
  },
  "cells": [
    {
      "cell_type": "markdown",
      "metadata": {
        "id": "2LlTYoQwMZHQ"
      },
      "source": [
        "### 练习 1"
      ]
    },
    {
      "cell_type": "code",
      "metadata": {
        "colab": {
          "base_uri": "https://localhost:8080/"
        },
        "id": "q1JBTNj8MTKM",
        "outputId": "ed9b6856-1b6d-4adc-e07d-01e89815a91d"
      },
      "source": [
        "import this"
      ],
      "execution_count": 1,
      "outputs": [
        {
          "output_type": "stream",
          "text": [
            "The Zen of Python, by Tim Peters\n",
            "\n",
            "Beautiful is better than ugly.\n",
            "Explicit is better than implicit.\n",
            "Simple is better than complex.\n",
            "Complex is better than complicated.\n",
            "Flat is better than nested.\n",
            "Sparse is better than dense.\n",
            "Readability counts.\n",
            "Special cases aren't special enough to break the rules.\n",
            "Although practicality beats purity.\n",
            "Errors should never pass silently.\n",
            "Unless explicitly silenced.\n",
            "In the face of ambiguity, refuse the temptation to guess.\n",
            "There should be one-- and preferably only one --obvious way to do it.\n",
            "Although that way may not be obvious at first unless you're Dutch.\n",
            "Now is better than never.\n",
            "Although never is often better than *right* now.\n",
            "If the implementation is hard to explain, it's a bad idea.\n",
            "If the implementation is easy to explain, it may be a good idea.\n",
            "Namespaces are one honking great idea -- let's do more of those!\n"
          ],
          "name": "stdout"
        }
      ]
    },
    {
      "cell_type": "markdown",
      "metadata": {
        "id": "BBwHFfjTMg1X"
      },
      "source": [
        "---\n",
        "\n",
        "\n",
        "\n",
        "### 练习 2"
      ]
    },
    {
      "cell_type": "code",
      "metadata": {
        "colab": {
          "base_uri": "https://localhost:8080/"
        },
        "id": "3GYxqiBtM45B",
        "outputId": "84f04aaf-14a8-4a11-ecc1-e4f35222b9b0"
      },
      "source": [
        "for x in range(1, 10):\n",
        "  for y in range(1, x + 1):\n",
        "    print('%dx%d=%d' % (y, x, x * y), end=' ')\n",
        "  print('\\n')"
      ],
      "execution_count": 9,
      "outputs": [
        {
          "output_type": "stream",
          "text": [
            "1x1=1 \n",
            "\n",
            "1x2=2 2x2=4 \n",
            "\n",
            "1x3=3 2x3=6 3x3=9 \n",
            "\n",
            "1x4=4 2x4=8 3x4=12 4x4=16 \n",
            "\n",
            "1x5=5 2x5=10 3x5=15 4x5=20 5x5=25 \n",
            "\n",
            "1x6=6 2x6=12 3x6=18 4x6=24 5x6=30 6x6=36 \n",
            "\n",
            "1x7=7 2x7=14 3x7=21 4x7=28 5x7=35 6x7=42 7x7=49 \n",
            "\n",
            "1x8=8 2x8=16 3x8=24 4x8=32 5x8=40 6x8=48 7x8=56 8x8=64 \n",
            "\n",
            "1x9=9 2x9=18 3x9=27 4x9=36 5x9=45 6x9=54 7x9=63 8x9=72 9x9=81 \n",
            "\n"
          ],
          "name": "stdout"
        }
      ]
    }
  ]
}